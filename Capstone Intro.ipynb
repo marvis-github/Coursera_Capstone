{
 "cells": [
  {
   "cell_type": "markdown",
   "metadata": {},
   "source": [
    "# **Introduction**\n",
    "\n",
    "Road Design Leading to Car Accident\n",
    "\n",
    "When it comes to car accident, you may think that it is due to bad weather, careless drivers, road condition and so on. In this project, we will mainly focus on road design and how it may lead to car accident. We can certainly take some actions such as alert, road sign to reduce effects of bad weather, careless drivers and road condition; but it seems to be highly uncontrollable considering its unpredicable nature and human errors. Therefore, we will focus on how to resolve controllable factor such as road design.\n",
    "\n",
    "\"Precaution is better than cure\". We can improve road design in the future through analysing the relationship between car accident data and current road design. Furthermore, we can also implement road signs or other tools at those places of high possiblity leading to card accident.\n"
   ]
  }
 ],
 "metadata": {
  "kernelspec": {
   "display_name": "Python",
   "language": "python",
   "name": "conda-env-python-py"
  },
  "language_info": {
   "codemirror_mode": {
    "name": "ipython",
    "version": 3
   },
   "file_extension": ".py",
   "mimetype": "text/x-python",
   "name": "python",
   "nbconvert_exporter": "python",
   "pygments_lexer": "ipython3",
   "version": "3.6.11"
  }
 },
 "nbformat": 4,
 "nbformat_minor": 4
}
