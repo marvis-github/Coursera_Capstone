{
 "cells": [
  {
   "cell_type": "markdown",
   "metadata": {},
   "source": [
    "# **Data**\n",
    "\n",
    "In this part, we will discuss how to process data from \"Collisions\" and analyse the relationship between road design and car accident. Although the road design is complexed and cannot be described easily in the reality, we will try to simplify this by taking some attributes in the Collision excel given for analysis.  \n",
    "\n",
    "The data related to road design are set as independent variables and those related to car accident are then dependent variables. In the Collision excel, the variables such as collision address type, the type of junction, pedestrian's right will be independent variables (road design) while the variable such as count of pedestrians, severity code, type of collision will be dependent variables (car accident)."
   ]
  }
 ],
 "metadata": {
  "kernelspec": {
   "display_name": "Python",
   "language": "python",
   "name": "conda-env-python-py"
  },
  "language_info": {
   "codemirror_mode": {
    "name": "ipython",
    "version": 3
   },
   "file_extension": ".py",
   "mimetype": "text/x-python",
   "name": "python",
   "nbconvert_exporter": "python",
   "pygments_lexer": "ipython3",
   "version": "3.6.11"
  }
 },
 "nbformat": 4,
 "nbformat_minor": 4
}
